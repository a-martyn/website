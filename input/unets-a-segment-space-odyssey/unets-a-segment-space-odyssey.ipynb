## What are they good for?

U-nets are most commonly used for image segmentation. More generally u-nets transform some input matrix to an output matrix of the same dimensions with shared subjective qualities. They were originally invented for outlining cells in mircoscopic images and won the ISBI cell tracking challenge 2015. In the example below the left-hand image is the input, the right side is the output.

![isbi_example](./assets/isbi_example.jpg)

TernausNet was part of the winning solution for multiple data science competitions in 2017 and 2018 including identifying robotic arms in surgical images for the MICCAI 2017 Robotic Instrument Segmentation Sub-Challenge. Here the model segments components of the robotic arms:

![isbi_example](./assets/robot_surgery_example.jpg)

The U-Net is also used as the generator component of some GAN models such as pix2pix, used here to transform an outline of a cat into a photo-realistic version.

![cat_example](./assets/cat_example.jpg)